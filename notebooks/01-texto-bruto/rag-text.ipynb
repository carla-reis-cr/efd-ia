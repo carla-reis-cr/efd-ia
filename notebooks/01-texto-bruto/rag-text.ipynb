{
 "cells": [
  {
   "cell_type": "markdown",
   "metadata": {},
   "source": [
    "### Preparação do texto"
   ]
  },
  {
   "cell_type": "code",
   "execution_count": 1,
   "metadata": {},
   "outputs": [],
   "source": [
    "import pdfplumber\n",
    "import os\n",
    "import torch\n",
    "from langchain import LLMChain, PromptTemplate\n",
    "from langchain.llms import HuggingFaceHub\n",
    "from langchain.retrievers import TFIDFRetriever\n",
    "from dotenv import load_dotenv\n",
    "import pandas as pd\n",
    "from langchain import PromptTemplate\n",
    "from langchain_huggingface import HuggingFaceEndpoint\n",
    "from langchain.embeddings import HuggingFaceEmbeddings\n",
    "from langchain.vectorstores import FAISS\n",
    "from langchain.chains import RetrievalQA\n",
    "from langchain.docstore.document import Document"
   ]
  },
  {
   "cell_type": "code",
   "execution_count": 2,
   "metadata": {},
   "outputs": [],
   "source": [
    "load_dotenv()\n",
    "# Acesse as variáveis de ambiente\n",
    "path_pdfs = os.path.abspath(os.path.join(os.getcwd(), '..', '..', os.getenv('DIRECTORY_PDFS')))\n",
    "token = os.getenv('HUGGINGFACEHUB_API_TOKEN')"
   ]
  },
  {
   "cell_type": "code",
   "execution_count": 3,
   "metadata": {},
   "outputs": [],
   "source": [
    "import pandas as pd\n",
    "\n",
    "# Função para extrair texto de PDFs e separar em seções\n",
    "def extract_text_from_pdfs(directory):\n",
    "    registros = []\n",
    "    for file in os.listdir(directory):\n",
    "        if file.endswith('.pdf'):\n",
    "            file_path = os.path.join(directory, file)\n",
    "            with pdfplumber.open(file_path) as pdf:\n",
    "                text = ''\n",
    "                for page in pdf.pages:\n",
    "                    text += page.extract_text()\n",
    "                # Encontrar os índices dos registros\n",
    "                indexes = [i for i in range(len(text)) if text.startswith(\"REGISTRO\", i)]\n",
    "                # Extrair as seções\n",
    "                for i in range(len(indexes)):\n",
    "                    start = indexes[i]\n",
    "                    if i == len(indexes) - 1:\n",
    "                        end = len(text)\n",
    "                    else:\n",
    "                        end = indexes[i + 1]\n",
    "                    registro_text = text[start:end].strip()\n",
    "                    # Extrair o identificador do registro\n",
    "                    registro_id = registro_text.split(\":\")[0].split()[-1]\n",
    "                    # Adicionar linha ao DataFrame\n",
    "                    registros.append({\"registro_id\": registro_id, \"registro_text\": registro_text})\n",
    "    # Criar o DataFrame\n",
    "    df = pd.DataFrame(registros)\n",
    "    \n",
    "    # Calcular o tamanho médio de cada seção\n",
    "    df['tamanho'] = df['registro_text'].apply(len)\n",
    "    tamanho_medio = df['tamanho'].mean()\n",
    "    print(f\"Tamanho médio de cada seção: {tamanho_medio} caracteres\")\n",
    "    \n",
    "    # Calcular o tamanho médio de cada seção em palavras\n",
    "    df['tamanho_palavras'] = df['registro_text'].apply(lambda x: len(x.split()))\n",
    "    tamanho_medio_palavras = df['tamanho_palavras'].mean()\n",
    "    print(f\"Tamanho médio de cada seção: {tamanho_medio_palavras} palavras\")\n",
    "    \n",
    "    return df"
   ]
  },
  {
   "cell_type": "code",
   "execution_count": 4,
   "metadata": {},
   "outputs": [
    {
     "name": "stderr",
     "output_type": "stream",
     "text": [
      "CropBox missing from /Page, defaulting to MediaBox\n",
      "CropBox missing from /Page, defaulting to MediaBox\n",
      "CropBox missing from /Page, defaulting to MediaBox\n",
      "CropBox missing from /Page, defaulting to MediaBox\n",
      "CropBox missing from /Page, defaulting to MediaBox\n",
      "CropBox missing from /Page, defaulting to MediaBox\n",
      "CropBox missing from /Page, defaulting to MediaBox\n",
      "CropBox missing from /Page, defaulting to MediaBox\n",
      "CropBox missing from /Page, defaulting to MediaBox\n",
      "CropBox missing from /Page, defaulting to MediaBox\n",
      "CropBox missing from /Page, defaulting to MediaBox\n",
      "CropBox missing from /Page, defaulting to MediaBox\n",
      "CropBox missing from /Page, defaulting to MediaBox\n",
      "CropBox missing from /Page, defaulting to MediaBox\n",
      "CropBox missing from /Page, defaulting to MediaBox\n",
      "CropBox missing from /Page, defaulting to MediaBox\n",
      "CropBox missing from /Page, defaulting to MediaBox\n",
      "CropBox missing from /Page, defaulting to MediaBox\n",
      "CropBox missing from /Page, defaulting to MediaBox\n",
      "CropBox missing from /Page, defaulting to MediaBox\n",
      "CropBox missing from /Page, defaulting to MediaBox\n",
      "CropBox missing from /Page, defaulting to MediaBox\n",
      "CropBox missing from /Page, defaulting to MediaBox\n",
      "CropBox missing from /Page, defaulting to MediaBox\n",
      "CropBox missing from /Page, defaulting to MediaBox\n",
      "CropBox missing from /Page, defaulting to MediaBox\n",
      "CropBox missing from /Page, defaulting to MediaBox\n",
      "CropBox missing from /Page, defaulting to MediaBox\n",
      "CropBox missing from /Page, defaulting to MediaBox\n",
      "CropBox missing from /Page, defaulting to MediaBox\n",
      "CropBox missing from /Page, defaulting to MediaBox\n",
      "CropBox missing from /Page, defaulting to MediaBox\n",
      "CropBox missing from /Page, defaulting to MediaBox\n",
      "CropBox missing from /Page, defaulting to MediaBox\n",
      "CropBox missing from /Page, defaulting to MediaBox\n",
      "CropBox missing from /Page, defaulting to MediaBox\n"
     ]
    },
    {
     "name": "stdout",
     "output_type": "stream",
     "text": [
      "Tamanho médio de cada seção: 7054.555555555556 caracteres\n",
      "Tamanho médio de cada seção: 1146.2222222222222 palavras\n"
     ]
    }
   ],
   "source": [
    "# Extraia o texto dos PDFs\n",
    "registros = extract_text_from_pdfs(path_pdfs)"
   ]
  },
  {
   "cell_type": "code",
   "execution_count": 5,
   "metadata": {},
   "outputs": [
    {
     "name": "stdout",
     "output_type": "stream",
     "text": [
      "  registro_id                                      registro_text  tamanho  \\\n",
      "0        0190  REGISTRO 0190: IDENTIFICAÇÃO DAS UNIDADES DE M...      716   \n",
      "1        0200  REGISTRO 0200: TABELA DE IDENTIFICAÇÃO DO ITEM...    12057   \n",
      "2        0205  REGISTRO 0205: ALTERAÇÃO DO ITEM\\nEste registr...     1350   \n",
      "3        C001  REGISTRO C001: ABERTURA DO BLOCO C\\nEste regis...      768   \n",
      "4        C100  REGISTRO C100: NOTA FISCAL (CÓDIGO 01), NOTA F...    24516   \n",
      "5        C101  REGISTRO C101: INFORMAÇÃO COMPLEMENTAR DOS DOC...      783   \n",
      "6        C165  REGISTRO C165: OPERAÇÕES COM COMBUSTÍVEIS (CÓD...     1803   \n",
      "7        C170  REGISTRO C170: ITENS DO DOCUMENTO (CÓDIGO 01, ...    20734   \n",
      "8        C171  REGISTRO C171: ARMAZENAMENTO DE COMBUSTÍVEIS (...      764   \n",
      "\n",
      "   tamanho_palavras  \n",
      "0               123  \n",
      "1              1906  \n",
      "2               227  \n",
      "3               134  \n",
      "4              4003  \n",
      "5               129  \n",
      "6               309  \n",
      "7              3361  \n",
      "8               124  \n"
     ]
    }
   ],
   "source": [
    "print(registros)"
   ]
  },
  {
   "cell_type": "markdown",
   "metadata": {},
   "source": [
    "### Embeddings, Vector, Retriever"
   ]
  },
  {
   "cell_type": "code",
   "execution_count": 6,
   "metadata": {},
   "outputs": [
    {
     "name": "stderr",
     "output_type": "stream",
     "text": [
      "C:\\Users\\clr_c\\AppData\\Local\\Temp\\ipykernel_14720\\3539359712.py:2: LangChainDeprecationWarning: The class `HuggingFaceEmbeddings` was deprecated in LangChain 0.2.2 and will be removed in 1.0. An updated version of the class exists in the langchain-huggingface package and should be used instead. To use it run `pip install -U langchain-huggingface` and import as `from langchain_huggingface import HuggingFaceEmbeddings`.\n",
      "  embeddings = HuggingFaceEmbeddings(model_name=\"sentence-transformers/all-MiniLM-L6-v2\")\n",
      "c:\\Users\\clr_c\\anaconda3\\envs\\efd-ia\\lib\\site-packages\\tqdm\\auto.py:21: TqdmWarning: IProgress not found. Please update jupyter and ipywidgets. See https://ipywidgets.readthedocs.io/en/stable/user_install.html\n",
      "  from .autonotebook import tqdm as notebook_tqdm\n"
     ]
    }
   ],
   "source": [
    "# Criar um índice de embeddings\n",
    "embeddings = HuggingFaceEmbeddings(model_name=\"sentence-transformers/all-MiniLM-L6-v2\")\n",
    "docs = []\n",
    "for index, row in registros.iterrows():\n",
    "    doc = Document(page_content=row[\"registro_text\"], metadata={\"registro_id\": row[\"registro_id\"]})\n",
    "    docs.append(doc)\n"
   ]
  },
  {
   "cell_type": "code",
   "execution_count": 7,
   "metadata": {},
   "outputs": [],
   "source": [
    "# Criar um Vetor Store com FAISS\n",
    "vectorstore = FAISS.from_documents(docs, embeddings)"
   ]
  },
  {
   "cell_type": "code",
   "execution_count": 8,
   "metadata": {},
   "outputs": [],
   "source": [
    "# Criar um retriever\n",
    "retriever = vectorstore.as_retriever()\n"
   ]
  },
  {
   "cell_type": "markdown",
   "metadata": {},
   "source": [
    "### Criação do Modelo RAG de Texto Bruto com Modelo do HaggindFace"
   ]
  },
  {
   "cell_type": "code",
   "execution_count": 9,
   "metadata": {},
   "outputs": [],
   "source": [
    "# Criar um modelo de linguagem\n",
    "\n",
    "llm = HuggingFaceEndpoint(\n",
    "    endpoint_url=\"https://api-inference.huggingface.co/models/google/flan-t5-small\",\n",
    "    huggingfacehub_api_token=token,\n",
    "    temperature=0.7,\n",
    "    top_p=0.95,\n",
    "    model_kwargs={\n",
    "        \"max_new_tokens \": 250\n",
    "    }\n",
    ")"
   ]
  },
  {
   "cell_type": "code",
   "execution_count": 10,
   "metadata": {},
   "outputs": [],
   "source": [
    "# Criar uma cadeia de QA\n",
    "qa_chain = RetrievalQA.from_chain_type(\n",
    "    llm=llm,\n",
    "    chain_type=\"stuff\",\n",
    "    retriever=retriever,\n",
    "    return_source_documents=True\n",
    ")"
   ]
  },
  {
   "cell_type": "markdown",
   "metadata": {},
   "source": [
    "### Criação do Modelo RAG de Texto Bruto com Modelo Local usando Biblioteca Transformers"
   ]
  },
  {
   "cell_type": "code",
   "execution_count": 13,
   "metadata": {},
   "outputs": [],
   "source": [
    "from transformers import T5Tokenizer, T5ForConditionalGeneration, pipeline\n",
    "from langchain_huggingface import HuggingFacePipeline\n",
    "import torch"
   ]
  },
  {
   "cell_type": "code",
   "execution_count": 14,
   "metadata": {},
   "outputs": [
    {
     "name": "stdout",
     "output_type": "stream",
     "text": [
      "Carregando modelo google/flan-t5-small localmente...\n"
     ]
    },
    {
     "name": "stderr",
     "output_type": "stream",
     "text": [
      "You are using the default legacy behaviour of the <class 'transformers.models.t5.tokenization_t5.T5Tokenizer'>. This is expected, and simply means that the `legacy` (previous) behavior will be used so nothing changes for you. If you want to use the new behaviour, set `legacy=False`. This should only be set if you understand what it means, and thoroughly read the reason why this was added as explained in https://github.com/huggingface/transformers/pull/24565\n"
     ]
    }
   ],
   "source": [
    "# Carregar o tokenizador e o modelo localmente\n",
    "model_name = \"google/flan-t5-small\"\n",
    "print(f\"Carregando modelo {model_name} localmente...\")\n",
    "tokenizer = T5Tokenizer.from_pretrained(model_name)\n",
    "model = T5ForConditionalGeneration.from_pretrained(model_name)\n"
   ]
  },
  {
   "cell_type": "code",
   "execution_count": 15,
   "metadata": {},
   "outputs": [
    {
     "name": "stdout",
     "output_type": "stream",
     "text": [
      "Usando dispositivo: GPU\n"
     ]
    }
   ],
   "source": [
    "# Caso contrário, usará a CPU (device=-1)\n",
    "device = 0 if torch.cuda.is_available() else -1\n",
    "print(f\"Usando dispositivo: {'GPU' if device == 0 else 'CPU'}\")"
   ]
  },
  {
   "cell_type": "code",
   "execution_count": 16,
   "metadata": {},
   "outputs": [
    {
     "name": "stderr",
     "output_type": "stream",
     "text": [
      "Device set to use cuda:0\n"
     ]
    }
   ],
   "source": [
    "\n",
    "# Criar o pipeline do transformers\n",
    "pipe = pipeline(\n",
    "    \"text2text-generation\",\n",
    "    model=model,\n",
    "    tokenizer=tokenizer,\n",
    "    max_new_tokens=250, # Definir o limite de tokens aqui\n",
    "    temperature=0.7,\n",
    "    top_p=0.95,\n",
    "    device=device # Especificar o dispositivo\n",
    ")\n"
   ]
  },
  {
   "cell_type": "code",
   "execution_count": 17,
   "metadata": {},
   "outputs": [
    {
     "name": "stdout",
     "output_type": "stream",
     "text": [
      "Modelo FLAN-T5-small carregado e pipeline criado.\n"
     ]
    }
   ],
   "source": [
    "# Criar o LLM para LangChain a partir do pipeline\n",
    "llm = HuggingFacePipeline(pipeline=pipe)\n",
    "\n",
    "print(\"Modelo FLAN-T5-small carregado e pipeline criado.\")"
   ]
  },
  {
   "cell_type": "code",
   "execution_count": 18,
   "metadata": {},
   "outputs": [],
   "source": [
    "# Criar uma cadeia de QA\n",
    "qa_chain = RetrievalQA.from_chain_type(\n",
    "    llm=llm,\n",
    "    chain_type=\"stuff\",\n",
    "    retriever=retriever,\n",
    "    return_source_documents=True\n",
    ")"
   ]
  },
  {
   "cell_type": "markdown",
   "metadata": {},
   "source": [
    "### Teste do RAG"
   ]
  },
  {
   "cell_type": "code",
   "execution_count": 11,
   "metadata": {},
   "outputs": [],
   "source": [
    "# Perguntas\n",
    "#pergunta = \"Qual é o registro mais relevante?\"\n",
    "pergunta = \"Em quais registros o campo COD_ITEM é usado?\""
   ]
  },
  {
   "cell_type": "code",
   "execution_count": 19,
   "metadata": {},
   "outputs": [
    {
     "name": "stderr",
     "output_type": "stream",
     "text": [
      "Token indices sequence length is longer than the specified maximum sequence length for this model (7322 > 512). Running this sequence through the model will result in indexing errors\n",
      "c:\\Users\\clr_c\\anaconda3\\envs\\efd-ia\\lib\\site-packages\\transformers\\generation\\configuration_utils.py:631: UserWarning: `do_sample` is set to `False`. However, `temperature` is set to `0.7` -- this flag is only used in sample-based generation modes. You should set `do_sample=True` or unset `temperature`.\n",
      "  warnings.warn(\n",
      "c:\\Users\\clr_c\\anaconda3\\envs\\efd-ia\\lib\\site-packages\\transformers\\generation\\configuration_utils.py:636: UserWarning: `do_sample` is set to `False`. However, `top_p` is set to `0.95` -- this flag is only used in sample-based generation modes. You should set `do_sample=True` or unset `top_p`.\n",
      "  warnings.warn(\n"
     ]
    },
    {
     "name": "stdout",
     "output_type": "stream",
     "text": [
      "Resposta: OC 02 Registro 0150\n",
      "Documentos fonte:\n",
      "REGISTRO 0190: IDENTIFICAÇÃO DAS UNIDADES DE MEDIDA\n",
      "Este registro tem por objetivo descrever as unidades de medidas utilizadas no arquivo digital. Não podem ser\n",
      "informados dois ou mais registros com o mesmo código de unidade de medida. Somente devem constar as unidades de medidas\n",
      "informadas em qualquer outro registro.\n",
      "Nº Campo Descrição Tipo Tam Dec Obrig\n",
      "01 REG Texto fixo contendo \"0190\" C 004 - O\n",
      "02 UNID Código da unidade de medida C 006 - O\n",
      "03 DESCR Descrição da unidade de medida C - - O\n",
      "Observações:\n",
      "Nível hierárquico: 2\n",
      "Ocorrência: vários por arquivo\n",
      "Campo 01 (REG) - Valor Válido: [0190]\n",
      "Campo 02 (UNID) - Validação: o valor informado neste campo deve existir em, pelo menos, um outro registro do arquivo.\n",
      "REGISTRO 0205: ALTERAÇÃO DO ITEM\n",
      "Este registro tem por objetivo informar alterações ocorridas na descrição do produto ou quando ocorrer alteração na\n",
      "codificação do produto, desde que não o descaracterize ou haja modificação que o identifique como sendo novo produto. Caso\n",
      "não tenha ocorrido movimentação no período da alteração do item, deverá ser informada no primeiro período em que houver\n",
      "movimentação do item ou no inventário.\n",
      "Validação do Registro: Não podem ser informados dois ou mais registros com sobreposição de períodos para o\n",
      "mesmo campo alterado (02 ou 05).\n",
      "Nº Campo Descrição Tipo Tam Dec Obrig\n",
      "01 REG Texto fixo contendo \"0205\" C 004 - O\n",
      "02 DESCR_ANT_ITEM Descrição anterior do item C - - OC\n",
      "03 DT_INI Data inicial de utilização da descrição do item N 008* - O\n",
      "04 DT_FIM Data final de utilização da descrição do item N 008* - O\n",
      "05 COD_ANT_ITEM Código anterior do item com relação à última informação C 060 - OC\n",
      "apresentada.\n",
      "Observações: Os campos 02 e 05 são mutuamente excludentes, sendo obrigatório o preenchimento de um deles. Em caso de\n",
      "alteração da DESCR_ANT_ITEM e do COD_ANT_ITEM deverá ser gerado um registro para cada alteração.\n",
      "Nível hierárquico - 3\n",
      "Ocorrência - 1:N\n",
      "Campo 01 (REG) - Valor Válido: [0205]\n",
      "Campo 03 (DT_INI) - Preenchimento: informar a data inicial de utilização da descrição anterior do item.\n",
      "Página 38 de 361\n",
      "REGISTRO 0200: TABELA DE IDENTIFICAÇÃO DO ITEM (PRODUTO E SERVIÇOS)\n",
      "Este registro tem por objetivo informar mercadorias, serviços, produtos ou quaisquer outros itens concernentes às\n",
      "transações fiscais e aos movimentos de estoques em processos produtivos, bem como os insumos. Quando ocorrer alteração\n",
      "somente na descrição do item, sem que haja descaracterização deste, ou seja, criação de um novo item, a alteração deve constar\n",
      "no registro 0205.\n",
      "Validação do registro: somente devem ser apresentados itens referenciados nos demais blocos, exceto se for\n",
      "apresentado o fator de conversão no registro 0220 (a partir de julho de 2012) ou alteração do item no registro 0205 (a partir de\n",
      "janeiro de 2021) ou correlação entre códigos de itens comercializados no registro 0221 (a partir de janeiro de 2023).\n",
      "A identificação do item (produto ou serviço) deverá receber o código próprio do informante do arquivo em\n",
      "qualquer documento, lançamento efetuado ou arquivo informado (significa que o código de produto deve ser o mesmo na\n",
      "emissão dos documentos fiscais, na entrada das mercadorias ou em qualquer outra informação prestada ao fisco), observando-\n",
      "se ainda que:\n",
      "a) O código utilizado não pode ser duplicado ou atribuído a itens (produto ou serviço) diferentes. Os produtos e\n",
      "serviços que sofrerem alterações em suas características básicas deverão ser identificados com códigos diferentes. Em caso de\n",
      "alteração de codificação, deverão ser informados o código e a descrição anteriores e as datas de validade inicial e final no\n",
      "registro 0205;\n",
      "b) Não é permitida a reutilização de código que tenha sido atribuído para qualquer produto anteriormente.\n",
      "c) O código de item/produto a ser informado no Inventário deverá ser aquele utilizado no mês inventariado.\n",
      "Página 35 de 361Guia Prático EFD-ICMS/IPI – Versão 3.1.7\n",
      "Atualização: 14 de agosto de 2024\n",
      "d) A discriminação do item deve indicar precisamente o mesmo, sendo vedadas discriminações diferentes para o\n",
      "mesmo item ou discriminações genéricas (a exemplo de “diversas entradas”, “diversas saídas”, “mercadorias para revenda”,\n",
      "etc), ressalvadas as operações abaixo, desde que não destinada à posterior circulação ou apropriação na produção:\n",
      "1 - de aquisição de “materiais para uso/consumo” que não gerem direitos a créditos;\n",
      "2 - que discriminem por gênero a aquisição de bens para o \"ativo fixo\" (e sua baixa);\n",
      "3 - que contenham os registros consolidados relativos aos contribuintes com atividades econômicas de fornecimento\n",
      "de energia elétrica, de fornecimento de água canalizada, de fornecimento de gás canalizado, e de prestação de serviço de\n",
      "comunicação e telecomunicação que poderão, a critério do Fisco, utilizar registros consolidados por classe de consumo para\n",
      "representar suas saídas ou prestações.\n",
      "Nº Campo Descrição Tipo Tam Dec Obrig\n",
      "01 REG Texto fixo contendo \"0200\" C 004 - O\n",
      "02 COD_ITEM Código do item C 060 - O\n",
      "03 DESCR_ITEM Descrição do item C - - O\n",
      "04 COD_BARRA Representação alfanumérico do código de barra C - - OC\n",
      "do produto, se houver\n",
      "05 COD_ANT_ITEM Código anterior do item com relação à última C 060 - N (informar no\n",
      "informação apresentada. 0205)\n",
      "06 UNID_INV Unidade de medida utilizada na quantificação de C 006 - O\n",
      "estoques.\n",
      "07 TIPO_ITEM Tipo do item – Atividades Industriais, N 2 - O\n",
      "Comerciais e Serviços:\n",
      "00 – Mercadoria para Revenda;\n",
      "01 – Matéria-prima;\n",
      "02 – Embalagem;\n",
      "03 – Produto em Processo;\n",
      "04 – Produto Acabado;\n",
      "05 – Subproduto;\n",
      "06 – Produto Intermediário;\n",
      "07 – Material de Uso e Consumo;\n",
      "08 – Ativo Imobilizado;\n",
      "09 – Serviços;\n",
      "10 – Outros insumos;\n",
      "99 – Outras\n",
      "08 COD_NCM Código da Nomenclatura Comum do Mercosul C 008* - OC\n",
      "09 EX_IPI Código EX, conforme a TIPI C 003 - OC\n",
      "10 COD_GEN Código do gênero do item, conforme a Tabela N 002* - OC\n",
      "4.2.1\n",
      "11 COD_LST Código do serviço conforme lista do Anexo I da C 005 OC\n",
      "Lei Complementar Federal nº 116/03.\n",
      "12 ALIQ_ICMS Alíquota de ICMS aplicável ao item nas N 006 02 OC\n",
      "operações internas\n",
      "13 CEST Código Especificador da Substituição Tributária N 007* - OC\n",
      "Nível hierárquico - 2\n",
      "Ocorrência - vários (por arquivo)\n",
      "Observações:\n",
      "1. O Código do Item deverá ser preenchido com as informações utilizadas na última ocorrência do período.\n",
      "2. O campo COD_NCM é obrigatório:\n",
      "2.1) para empresas industriais e equiparadas a industrial, referente aos itens correspondentes à atividade\n",
      "fim, ou quando gerarem créditos e débitos de IPI;\n",
      "2.2) para contribuintes de ICMS que sejam substitutos tributários;\n",
      "2.3) para empresas que realizarem operações de exportação ou importação.\n",
      "3. Não existe COD-NCM para serviços.\n",
      "4. O campo COD_GEN é obrigatório a todos os contribuintes somente na aquisição de produtos primários.\n",
      "5. O campo CEST é válido a partir de 01/01/2017.\n",
      "Página 36 de 361Guia Prático EFD-ICMS/IPI – Versão 3.1.7\n",
      "Atualização: 14 de agosto de 2024\n",
      "Campo 01 (REG) - Valor Válido: [0200]\n",
      "Campo 02 (COD_ITEM) - Preenchimento: informar com códigos próprios do informante do arquivo os itens das operações\n",
      "de entradas de mercadorias ou aquisições de serviços, bem como das operações de saídas de mercadorias ou prestações de\n",
      "serviços, bem como dos produtos e subprodutos gerados no processo produtivo.\n",
      "Validação: o valor informado neste campo deve existir em, pelo menos, um registro dos demais blocos ou no registro 0220.\n",
      "Campo 03 (DESCR_ITEM) - Preenchimento: são vedadas descrições diferentes para o mesmo item ou descrições genéricas,\n",
      "ressalvadas as operações abaixo, desde que não destinada à posterior circulação ou apropriação na produção:\n",
      "1- de aquisição de “materiais para uso/consumo” que não gerem direitos a créditos;\n",
      "2- que discriminem por gênero a aquisição de bens para o “ativo fixo” (e sua baixa);\n",
      "3- que contenham os registros consolidados relativos aos contribuintes com atividades econômicas de fornecimento\n",
      "de energia elétrica, de fornecimento de água canalizada, de fornecimento de gás canalizado e de prestação de serviço de\n",
      "comunicação e telecomunicação que poderão, a critério do Fisco, utilizar registros consolidados por classe de consumo para\n",
      "representar suas saídas ou prestações.\n",
      "É permitida a modificação da descrição, desde que não implique descaracterização do produto. Neste caso, o campo\n",
      "deve ser preenchido com a atual descrição utilizada no período. As descrições substituídas devem ser informadas nos registros\n",
      "0205.\n",
      "Campo 04 (COD_BARRA) - Preenchimento: informar o código GTIN-8, GTIN-12, GTIN-13 ou GTIN-14 (antigos códigos\n",
      "EAN, UPC e DUN-14). Não informar o conteúdo do campo se o produto não possui este código.\n",
      "Campo 05 (COD_ANT_ITEM) - Não preencher. Se houver a informação, esta deve ser prestada no registro 0205.\n",
      "Campo 06 (UNID_INV) - Validação: Deve existir no registro 0190, campo UNID.\n",
      "Campo 07 (TIPO_ITEM) - Preenchimento: informar o tipo do item aplicável. Nas situações de um mesmo código de item\n",
      "possuir mais de um tipo de item (destinação), deve ser informado o tipo de maior relevância na movimentação física, observadas,\n",
      "no que couberem, as regras de escrituração do Bloco K.\n",
      "Deve ser informada a destinação inicial do produto, considerando-se os conceitos:\n",
      "00 - Mercadoria para revenda – produto adquirido para comercialização;\n",
      "01 – Matéria-prima: a mercadoria que componha, física e/ou quimicamente, um produto em processo ou produto acabado e\n",
      "que não seja oriunda do processo produtivo. A mercadoria recebida para industrialização é classificada como Tipo 01, pois\n",
      "não decorre do processo produtivo, mesmo que no processo de produção se produza mercadoria similar classificada como\n",
      "Tipo 03;\n",
      "03 – Produto em processo: o produto que possua as seguintes características, cumulativamente: oriundo do processo produtivo;\n",
      "e, predominantemente, consumido no processo produtivo. Dentre os produtos em processo está incluído o produto resultante\n",
      "caracterizado como retorno de produção. Um produto em processo é caracterizado como retorno de produção quando é\n",
      "resultante de uma fase de produção e é destinado, rotineira e exclusivamente, a uma fase de produção anterior à qual o mesmo\n",
      "foi gerado. No “retorno de produção”, o produto retorna (é consumido) a uma fase de produção anterior à qual ele foi gerado.\n",
      "Isso é uma excepcionalidade, pois o normal é o produto em processo ser consumido em uma fase de produção posterior à qual\n",
      "ele foi gerado, e acontece, portanto, em poucos processos produtivos.\n",
      "04 – Produto acabado: o produto que possua as seguintes características, cumulativamente: oriundo do processo produtivo;\n",
      "produto final resultante do objeto da atividade econômica do contribuinte; e pronto para ser comercializado;\n",
      "05 - Subproduto: o produto que possua as seguintes características, cumulativamente: oriundo do processo produtivo e não é\n",
      "objeto da produção principal do estabelecimento; tem aproveitamento econômico; não se enquadre no conceito de produto em\n",
      "processo (Tipo 03) ou de produto acabado (Tipo 04);\n",
      "06 – Produto intermediário - aquele que, embora não se integrando ao novo produto, for consumido no processo de\n",
      "industrialização.\n",
      "A classificação da mercadoria não se altera a cada movimentação. Exemplo: não há impedimento para que uma mercadoria\n",
      "classificada como produto em processo – tipo 03 seja vendida, assim como não há impedimento para que uma mercadoria\n",
      "classificada como produto acabado – tipo 04 seja consumida no processo produtivo para obtenção de outro produto resultante.\n",
      "Deve ser considerada a atividade econômica do estabelecimento informante, e não da empresa.\n",
      "Valores válidos: [00, 01, 02, 03, 04, 05, 06, 07, 08, 09, 10, 99]\n",
      "Página 37 de 361Guia Prático EFD-ICMS/IPI – Versão 3.1.7\n",
      "Atualização: 14 de agosto de 2024\n",
      "Campo 08 (COD_NCM) – Preenchimento: para as empresas industriais ou equiparadas é obrigatório informar o Código NCM,\n",
      "conforme a Nomenclatura Comum do MERCOSUL. Não existe COD-NCM para serviços.\n",
      "Para as demais empresas, é obrigatória a informação da NCM para os itens importados, exportados ou, no caso de substituição\n",
      "tributária, para os itens sujeitos à substituição, quando houver a retenção do ICMS.\n",
      "Validação: o preenchimento do campo é obrigatório se o campo IND_ATIV do registro 0000 for igual a “0” (zero) (industrial\n",
      "ou equiparado a industrial), mas apenas para os itens correspondentes à atividade-fim ou quando gerarem créditos e débitos de\n",
      "IPI. Fica dispensado o preenchimento deste campo, quando o tipo de item informado no campo TIPO_ITEM for igual a 07 -\n",
      "Material de Uso e Consumo; ou 08 – Ativo Imobilizado; ou 09 -Serviços; ou 10 - Outros insumos; ou 99 - Outras.\n",
      "Campo 09 (EX_IPI) - Preenchimento: informar com o Código de Exceção de NCM, de acordo com a Tabela de Incidência\n",
      "do Imposto de Produtos Industrializados (TIPI), quando existir.\n",
      "Campo 10 (COD_GEN) - Preenchimento: obrigatório para todos os contribuintes na aquisição de produtos primários. A\n",
      "Tabela \"Gênero do Item de Mercadoria/Serviço\", referenciada no Item 4.2.1 da Nota Técnica (Ato COTEPE/ICMS nº 44/2018\n",
      "e alterações), corresponde à tabela de \"Capítulos da NCM\", acrescida do código \"00 - Serviço\".\n",
      "Validação: o valor informado no campo deve existir na Tabela “Gênero do Item de Mercadoria/Serviço”, item 4.2.1 da Nota\n",
      "Técnica (Ato COTEPE/ICMS nº 44/2018 e alterações).\n",
      "Campo 11 (COD_LST) - Preenchimento: informar o código de serviços, de acordo com a Lei Complementar 116/03. A partir\n",
      "de janeiro de 2015, preencher como na NF-e, formato NN.NN\n",
      "Campo 12 (ALIQ_ICMS) - Preenchimento: neste campo deve ser informada a alíquota interna prevista em regulamento,\n",
      "incluindo alíquota relacionada ao Fundo de Combate à Pobreza, se aplicável, conforme a legislação de cada UF.\n",
      "Regra de validação para o campo “ALIQ_ICMS”: Para todos os itens com registros C180, C185, C330, C380, C430, C480,\n",
      "C810 e C870, o preenchimento do campo 12 é obrigatório.\n",
      "Campo 13 (CEST) - Preenchimento: Nos casos em que mais de um código CEST puder ser atribuído a um único produto no\n",
      "momento da saída, ou seja, quando a associação do CEST ao item em estoque depender da finalidade à qual o item será\n",
      "destinado pelo adquirente, este campo não deve ser informado.\n",
      "Validação: o valor informado no campo deve existir na Tabela Código Especificador da Substituição Tributária- CEST.\n",
      "REGISTRO C165: OPERAÇÕES COM COMBUSTÍVEIS (CÓDIGO 01).\n",
      "Este registro deve ser apresentado pelas empresas do segmento de combustíveis (distribuidoras, refinarias,\n",
      "revendedoras) em operações de saída. Postos de combustíveis não devem apresentar este registro.\n",
      "Validação do Registro: Não podem ser informados para um mesmo documento fiscal, dois ou mais registros com a\n",
      "mesma combinação de conteúdo nos campos COD_PART e VEIC_ID.\n",
      "Nº Campo Descrição Tipo Tam Dec Entr Saída\n",
      "01 REG Texto fixo contendo \"C165” C 004 - Não O\n",
      "COD_PART Código do participante (campo 02 do C 060 - apresentar OC\n",
      "02 Registro 0150):\n",
      "- transportador, se houver\n",
      "03 VEIC_ID Placa de identificação do veículo C 007 - O\n",
      "Código da autorização fornecido pela OC\n",
      "04 COD_AUT C - -\n",
      "SEFAZ (combustíveis)\n",
      "05 NR_PASSE Número do Passe Fiscal C - - OC\n",
      "06 HORA Hora da saída das mercadorias N 006* - O\n",
      "Temperatura em graus Celsius utilizada para OC\n",
      "07 TEMPER N - 01\n",
      "quantificação do volume de combustível\n",
      "08 QTD_VOL Quantidade de volumes transportados N - - O\n",
      "PESO_BRT Peso bruto dos volumes transportados (em N - 02 O\n",
      "09\n",
      "kg)\n",
      "PESO_LIQ Peso líquido dos volumes transportados (em N - 02 O\n",
      "10\n",
      "kg)\n",
      "11 NOM_MOT Nome do motorista C 060 - OC\n",
      "12 CPF CPF do motorista N 011* - OC\n",
      "13 UF_ID Sigla da UF da placa do veículo C 002 - OC\n",
      "Observações:\n",
      "Nível hierárquico - 3\n",
      "Ocorrência - 1:N\n",
      "Campo 01 (REG) - Valor Válido: [C165]\n",
      "Campo 02 (COD_PART) - Validação: o valor informado deve existir no campo COD_PART do registro 0150.\n",
      "Campo 06 (HORA) - Preenchimento: informar, conforme o padrão “hhmmss”, excluindo-se quaisquer caracteres de\n",
      "separação, tais como: \".\", \":\", \"-\", \" \", etc.\n",
      "Campo 12 (CPF) - Preenchimento: não utilizar os caracteres especiais de formatação, tais como: “.”, “/”, “-”.\n",
      "Validação: se preenchido, é conferido se o dígito verificador é válido.\n"
     ]
    }
   ],
   "source": [
    "# Testar o sistema de RAG\n",
    "\n",
    "resultado = qa_chain.invoke({\"query\": pergunta})\n",
    "print(\"Resposta:\", resultado[\"result\"])\n",
    "print(\"Documentos fonte:\")\n",
    "for doc in resultado[\"source_documents\"]:\n",
    "    print(doc.page_content)"
   ]
  }
 ],
 "metadata": {
  "kernelspec": {
   "display_name": "efd-ia",
   "language": "python",
   "name": "python3"
  },
  "language_info": {
   "codemirror_mode": {
    "name": "ipython",
    "version": 3
   },
   "file_extension": ".py",
   "mimetype": "text/x-python",
   "name": "python",
   "nbconvert_exporter": "python",
   "pygments_lexer": "ipython3",
   "version": "3.10.17"
  }
 },
 "nbformat": 4,
 "nbformat_minor": 2
}
