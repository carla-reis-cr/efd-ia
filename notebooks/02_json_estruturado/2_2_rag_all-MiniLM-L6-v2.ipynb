{
 "cells": [
  {
   "cell_type": "markdown",
   "metadata": {},
   "source": [
    "### Configuração Inicial"
   ]
  },
  {
   "cell_type": "code",
   "execution_count": 1,
   "metadata": {},
   "outputs": [
    {
     "name": "stdout",
     "output_type": "stream",
     "text": [
      "WARNING:tensorflow:From c:\\Users\\clr_c\\anaconda3\\envs\\efd-ia\\lib\\site-packages\\keras\\src\\losses.py:2976: The name tf.losses.sparse_softmax_cross_entropy is deprecated. Please use tf.compat.v1.losses.sparse_softmax_cross_entropy instead.\n",
      "\n"
     ]
    }
   ],
   "source": [
    "import os\n",
    "import sys\n",
    "from pathlib import Path\n",
    "\n",
    "# Get the absolute path to the project root directory\n",
    "project_root = os.path.abspath(os.path.join(os.getcwd(), \"..\", \"..\"))\n",
    "\n",
    "# Add project root to Python path\n",
    "if project_root not in sys.path:\n",
    "    sys.path.append(project_root)\n",
    "\n",
    "print(f\"Project root added to path: {project_root}\")\n",
    "\n",
    "# Now import the modules\n",
    "from efd_utils.extract_text import extrair_texto, extrair_tabelas\n",
    "from efd_utils.rag_efd import EFDChunker, EFDVectorStore, EFDChatTransformers, EFDChatOllama, EFDChatBode, limpar_arquivos_temporarios"
   ]
  },
  {
   "cell_type": "code",
   "execution_count": 2,
   "metadata": {},
   "outputs": [
    {
     "name": "stdout",
     "output_type": "stream",
     "text": [
      "Limpando cache do HuggingFace...\n",
      "e:\\Carla Reis\\Projects\\Notebooks\\efd-ia\\efd_db\\vectorstore\n",
      "Limpando vectorstore...\n",
      "e:\\Carla Reis\\Projects\\Notebooks\\efd-ia\\data\\txt\\validacoes_extraidas.md\n",
      "Limpando arquivo txt...\n",
      "e:\\Carla Reis\\Projects\\Notebooks\\efd-ia\\data\\structured\\chunks.json\n",
      "Limpando arquivo de chunks...\n",
      "e:\\Carla Reis\\Projects\\Notebooks\\efd-ia\\data\\structured\\json\n",
      "Limpando arquivos JSON na pasta json...\n",
      "✅ Limpeza concluída!\n"
     ]
    }
   ],
   "source": [
    "limpar_arquivos_temporarios()"
   ]
  },
  {
   "cell_type": "markdown",
   "metadata": {},
   "source": [
    "### Extração de dados"
   ]
  },
  {
   "cell_type": "code",
   "execution_count": 3,
   "metadata": {},
   "outputs": [
    {
     "name": "stdout",
     "output_type": "stream",
     "text": [
      "✅ Tabela do registro 0190 salva em: e:\\Carla Reis\\Projects\\Notebooks\\efd-ia\\data\\structured\\json\\registro_0190.json\n",
      "✅ Tabela do registro 0200 salva em: e:\\Carla Reis\\Projects\\Notebooks\\efd-ia\\data\\structured\\json\\registro_0200.json\n"
     ]
    }
   ],
   "source": [
    "# Atualizar o caminho do documento de entrada\n",
    "input_doc_path = Path(os.getenv('PDF_0200'))\n",
    "\n",
    "# Extrair texto\n",
    "extrair_texto(input_doc_path)\n",
    "\n",
    "# Extrair tabelas\n",
    "extrair_tabelas(input_doc_path)\n"
   ]
  },
  {
   "cell_type": "code",
   "execution_count": 4,
   "metadata": {},
   "outputs": [
    {
     "name": "stdout",
     "output_type": "stream",
     "text": [
      "✅ Tabela do registro C165 salva em: e:\\Carla Reis\\Projects\\Notebooks\\efd-ia\\data\\structured\\json\\registro_C165.json\n",
      "✅ Tabela do registro C170 salva em: e:\\Carla Reis\\Projects\\Notebooks\\efd-ia\\data\\structured\\json\\registro_C170.json\n",
      "✅ Tabela do registro C171 salva em: e:\\Carla Reis\\Projects\\Notebooks\\efd-ia\\data\\structured\\json\\registro_C171.json\n"
     ]
    }
   ],
   "source": [
    "input_doc_path = Path(os.getenv('PDF_C170'))\n",
    "\n",
    "# Extrair texto\n",
    "extrair_texto(input_doc_path)\n",
    "    \n",
    "# Extrair tabelas\n",
    "extrair_tabelas(input_doc_path)"
   ]
  },
  {
   "cell_type": "code",
   "execution_count": 5,
   "metadata": {},
   "outputs": [
    {
     "name": "stdout",
     "output_type": "stream",
     "text": [
      "✅ Tabela do registro C001 salva em: e:\\Carla Reis\\Projects\\Notebooks\\efd-ia\\data\\structured\\json\\registro_C001.json\n",
      "✅ Tabela do registro C100 salva em: e:\\Carla Reis\\Projects\\Notebooks\\efd-ia\\data\\structured\\json\\registro_C100.json\n"
     ]
    }
   ],
   "source": [
    "input_doc_path = Path(os.getenv('PDF_C100'))\n",
    "\n",
    "# Extrair texto\n",
    "extrair_texto(input_doc_path)\n",
    "    \n",
    "# Extrair tabelas\n",
    "extrair_tabelas(input_doc_path)"
   ]
  },
  {
   "cell_type": "code",
   "execution_count": 6,
   "metadata": {},
   "outputs": [
    {
     "name": "stdout",
     "output_type": "stream",
     "text": [
      "✅ Campos carregados para o registro 0190: 3 campos\n",
      "✅ Chunk criado para o registro 0190 com 3 campos\n",
      "✅ Campos carregados para o registro 0200: 13 campos\n",
      "✅ Chunk criado para o registro 0200 com 13 campos\n",
      "✅ Chunk criado para o registro 0205 com 0 campos\n",
      "✅ Campos carregados para o registro C165: 13 campos\n",
      "✅ Chunk criado para o registro C165 com 13 campos\n",
      "✅ Campos carregados para o registro C170: 36 campos\n",
      "✅ Chunk criado para o registro C170 com 36 campos\n",
      "✅ Campos carregados para o registro C171: 5 campos\n",
      "✅ Chunk criado para o registro C171 com 5 campos\n",
      "✅ Campos carregados para o registro C001: 2 campos\n",
      "✅ Chunk criado para o registro C001 com 2 campos\n",
      "✅ Chunks salvos em: e:\\Carla Reis\\Projects\\Notebooks\\efd-ia\\data\\structured\\chunks.json\n"
     ]
    }
   ],
   "source": [
    "# Cria os chunks\n",
    "path_data = os.path.join(project_root,\"data\")\n",
    "chunker = EFDChunker(path_data +\"/txt/validacoes_extraidas.md\")\n",
    "chunks = chunker.extract_registers()\n",
    "chunker.save_chunks(path_data + \"/structured/chunks.json\")\n",
    "        "
   ]
  },
  {
   "cell_type": "markdown",
   "metadata": {},
   "source": [
    "### Indexação no Banco Vetorial"
   ]
  },
  {
   "cell_type": "code",
   "execution_count": 7,
   "metadata": {},
   "outputs": [
    {
     "name": "stderr",
     "output_type": "stream",
     "text": [
      "e:\\Carla Reis\\Projects\\Notebooks\\efd-ia\\efd_utils\\rag_efd.py:157: LangChainDeprecationWarning: The class `HuggingFaceEmbeddings` was deprecated in LangChain 0.2.2 and will be removed in 1.0. An updated version of the class exists in the :class:`~langchain-huggingface package and should be used instead. To use it run `pip install -U :class:`~langchain-huggingface` and import as `from :class:`~langchain_huggingface import HuggingFaceEmbeddings``.\n",
      "  self.embeddings = HuggingFaceEmbeddings(\n",
      "Xet Storage is enabled for this repo, but the 'hf_xet' package is not installed. Falling back to regular HTTP download. For better performance, install the package with: `pip install huggingface_hub[hf_xet]` or `pip install hf_xet`\n"
     ]
    },
    {
     "name": "stdout",
     "output_type": "stream",
     "text": [
      "Vectorstore:  [Document(metadata={'source': 'e:\\\\Carla Reis\\\\Projects\\\\Notebooks\\\\efd-ia\\\\data\\\\txt\\\\validacoes_extraidas.md', 'register': '0190', 'has_json': True, 'num_campos': 3, 'model_name': 'default-model'}, page_content='IDENTIFICAÇÃO DAS UNIDADES DE MEDIDA\\nEste  registro  tem  por  objetivo  descrever  as  unidades  de  medidas  utilizadas  no  arquivo  digital.  Não  podem  ser informados dois ou mais registros com o mesmo código de unidade de medida. Somente devem constar as unidades de medidas informadas em qualquer outro registro.\\nObservações:\\nNível hierárquico: 2\\nOcorrência: vários por arquivo\\nCampo 01 (REG) - Valor Válido: [0190]\\nCampo 02 (UNID) - Validação: o valor informado neste campo deve existir em, pelo menos, um outro registro do arquivo.\\n\\nCampos do registro:\\n- REG: Texto fixo contendo \"0190\"\\n- UNID: Código da unidade de medida\\n- DESCR: Descrição da unidade de medida\\n'), Document(metadata={'source': 'e:\\\\Carla Reis\\\\Projects\\\\Notebooks\\\\efd-ia\\\\data\\\\txt\\\\validacoes_extraidas.md', 'register': '0200', 'has_json': True, 'num_campos': 13, 'model_name': 'default-model'}, page_content='TABELA DE IDENTIFICAÇÃO DO ITEM (PRODUTO E SERVIÇOS)\\nEste registro tem por objetivo informar mercadorias, serviços, produtos ou quaisquer outros itens concernentes às transações fiscais e aos movimentos de estoques em processos produtivos, bem como os insumos. Quando ocorrer alteração somente na descrição do item, sem que haja descaracterização deste, ou seja, criação de um novo item, a alteração deve constar no registro 0205.\\nValidação  do  registro: somente  devem  ser  apresentados  itens  referenciados  nos  demais  blocos,  exceto  se  for apresentado o fator de conversão no registro 0220 (a partir de julho de 2012) ou alteração do item no registro 0205 (a partir de janeiro de 2021) ou correlação entre códigos de itens comercializados no registro 0221 (a partir de janeiro de 2023).\\n- A identificação  do  item  (produto  ou  serviço) deverá receber o  código  próprio  do  informante  do  arquivo  em qualquer documento, lançamento efetuado ou arquivo informado (significa que o código de produto deve ser o mesmo na emissão dos documentos fiscais, na entrada das mercadorias ou em qualquer outra informação prestada ao fisco), observandose ainda que:\\n- a)  O  código  utilizado  não  pode  ser  duplicado  ou  atribuído  a  itens  (produto  ou  serviço)  diferentes.  Os  produtos  e serviços que sofrerem alterações em suas características básicas deverão ser identificados com códigos diferentes. Em caso de alteração de codificação, deverão ser informados o código e a descrição anteriores e as datas de validade inicial e final no registro 0205;\\n- b) Não é permitida a reutilização de código que tenha sido atribuído para qualquer produto anteriormente.\\n- c) O código de item/produto a ser informado no Inventário deverá ser aquele utilizado no mês inventariado.\\n- d)  A  discriminação  do  item deve  indicar precisamente o mesmo,  sendo  vedadas discriminações diferentes para  o mesmo item ou discriminações genéricas (a exemplo de \\'diversas entradas\\', \\'diversas saídas\\', \\'mercadorias para revenda\\', etc), ressalvadas as operações abaixo, desde que não destinada à posterior circulação ou apropriação na produção:\\n- 1 - de aquisição de \\'materiais para uso/consumo\\' que não gerem direitos a créditos;\\n- 2 - que discriminem por gênero a aquisição de bens para o \"ativo fixo\" (e sua baixa);\\n- 3 - que contenham os registros consolidados relativos aos contribuintes com atividades econômicas de fornecimento de energia elétrica, de fornecimento de água canalizada, de fornecimento de gás canalizado, e de prestação de serviço de comunicação e telecomunicação que poderão, a critério do Fisco, utilizar registros consolidados por classe de consumo para representar suas saídas ou prestações.\\nNível hierárquico - 2\\nOcorrência - vários (por arquivo)\\nObservações:\\n- 1. O Código do Item deverá ser preenchido com as informações utilizadas na última ocorrência do período.\\n- 2. O campo COD_NCM é obrigatório:\\n- 2.1) para empresas industriais e equiparadas a industrial, referente aos itens correspondentes à atividade fim, ou quando gerarem créditos e débitos de IPI;\\n- 2.2) para contribuintes de ICMS que sejam substitutos tributários;\\n- 2.3) para empresas que realizarem operações de exportação ou importação.\\n- 3. Não existe COD-NCM para serviços.\\n- 4. O campo COD_GEN é obrigatório a todos os contribuintes somente na aquisição de produtos primários.\\n- 5. O campo CEST é válido a partir de 01/01/2017.\\nCampo 01 (REG) - Valor Válido: [0200]\\nCampo 02 (COD_ITEM) - Preenchimento: informar com códigos próprios do informante do arquivo os itens das operações de entradas de mercadorias ou aquisições de serviços, bem como das operações de saídas de mercadorias ou prestações de serviços, bem como dos produtos e subprodutos gerados no processo produtivo.\\nValidação: o valor informado neste campo deve existir em, pelo menos, um registro dos demais blocos ou no registro 0220.\\nCampo 03 (DESCR_ITEM) - Preenchimento : são vedadas descrições diferentes para o mesmo item ou descrições genéricas, ressalvadas as operações abaixo, desde que não destinada à posterior circulação ou apropriação na produção:\\n- 1- de aquisição de \\'materiais para uso/consumo\\' que não gerem direitos a créditos;\\n- 2- que discriminem por gênero a aquisição de bens para o \\'ativo fixo\\' (e sua baixa);\\n- 3- que contenham os registros consolidados relativos aos contribuintes com atividades econômicas de fornecimento de  energia  elétrica,  de  fornecimento  de  água  canalizada,  de  fornecimento  de  gás  canalizado  e  de  prestação  de  serviço  de comunicação e telecomunicação que poderão, a critério do Fisco, utilizar registros consolidados por classe de consumo para representar suas saídas ou prestações.\\n- É permitida a modificação da descrição, desde que não implique descaracterização do produto. Neste caso, o campo deve ser preenchido com a atual descrição utilizada no período. As descrições substituídas devem ser informadas nos registros 0205.\\nCampo 04 (COD_BARRA) - Preenchimento : informar o código GTIN-8, GTIN-12, GTIN-13 ou GTIN-14 (antigos códigos EAN, UPC e DUN-14). Não informar o conteúdo do campo se o produto não possui este código.\\nCampo 05 (COD_ANT_ITEM) -Não preencher. Se houver a informação, esta deve ser prestada no registro 0205.\\nCampo 06 (UNID_INV) - Validação: Deve existir no registro 0190, campo UNID.\\nCampo 07 (TIPO_ITEM) - Preenchimento : informar o tipo do item aplicável. Nas situações de um mesmo código de item possuir mais de um tipo de item (destinação), deve ser informado o tipo de maior relevância na movimentação física, observadas, no que couberem, as regras de escrituração do Bloco K.\\nDeve ser informada a destinação inicial do produto, considerando-se os conceitos:\\n- 00 - Mercadoria para revenda - produto adquirido para comercialização;\\n- 01 - Matéria-prima: a mercadoria que componha, física e/ou quimicamente, um produto em processo ou produto acabado e que não seja oriunda do processo produtivo. A mercadoria recebida para industrialização é classificada como Tipo 01, pois não decorre do processo produtivo, mesmo que no processo de produção se produza mercadoria similar classificada como Tipo 03;\\n- 03 - Produto em processo: o produto que possua as seguintes características, cumulativamente: oriundo do processo produtivo; e, predominantemente, consumido no processo produtivo. Dentre os produtos em processo está incluído o produto resultante caracterizado  como  retorno  de  produção.  Um  produto  em  processo  é  caracterizado  como  retorno  de  produção  quando  é resultante de uma fase de produção e é destinado, rotineira e exclusivamente, a uma fase de produção anterior à qual o mesmo foi gerado. No \\'retorno de produção\\', o produto retorna (é consumido) a uma fase de produção anterior à qual ele foi gerado. Isso é uma excepcionalidade, pois o normal é o produto em processo ser consumido em uma fase de produção posterior à qual ele foi gerado, e acontece, portanto, em poucos processos produtivos.\\n- 04 - Produto acabado: o produto que possua as seguintes características, cumulativamente: oriundo do processo produtivo; produto final resultante do objeto da atividade econômica do contribuinte; e pronto para ser comercializado;\\n- 05 - Subproduto: o produto que possua as seguintes características, cumulativamente: oriundo do processo produtivo e não é objeto da produção principal do estabelecimento; tem  aproveitamento econômico; não se enquadre no conceito de produto  em processo (Tipo 03) ou de produto acabado (Tipo 04);\\n- 06  -  Produto  intermediário  -  aquele  que,  embora  não  se  integrando  ao  novo  produto,  for  consumido  no  processo  de industrialização.\\nA classificação da mercadoria não se altera a cada movimentação. Exemplo: não há impedimento para que uma mercadoria classificada como produto em processo - tipo 03 seja vendida, assim como não há impedimento para que uma mercadoria classificada como produto acabado - tipo 04 seja consumida no processo produtivo para obtenção de outro produto resultante. Deve ser considerada a atividade econômica do estabelecimento informante, e não da empresa.\\nValores válidos : [00, 01, 02, 03, 04, 05, 06, 07, 08, 09, 10, 99]\\nCampo 08 (COD_NCM) - Preenchimento: para as empresas industriais ou equiparadas é obrigatório informar o Código NCM, conforme a Nomenclatura Comum do MERCOSUL. Não existe COD-NCM para serviços.\\nPara as demais empresas, é obrigatória a informação da NCM para os itens importados, exportados ou, no caso de substituição tributária, para os itens sujeitos à substituição, quando houver a retenção do ICMS.\\nValidação: o preenchimento do campo é obrigatório se o campo IND_ATIV do registro 0000 for igual a \\'0\\' (zero) (industrial ou equiparado a industrial), mas apenas para os itens correspondentes à atividade-fim ou quando gerarem créditos e débitos de IPI. Fica dispensado o preenchimento deste campo, quando o tipo de item informado no campo TIPO_ITEM for igual a 07 Material de Uso e Consumo; ou 08 - Ativo Imobilizado; ou 09 -Serviços; ou 10 - Outros insumos; ou 99 - Outras.\\nCampo 09 (EX_IPI) - Preenchimento: informar com o Código de Exceção de NCM, de acordo com a Tabela de Incidência do Imposto de Produtos Industrializados (TIPI), quando existir.\\nCampo 10 (COD_GEN) -  Preenchimento: obrigatório para todos os contribuintes na aquisição de produtos primários. A Tabela \"Gênero do Item de Mercadoria/Serviço\", referenciada no Item 4.2.1 da Nota Técnica (Ato COTEPE/ICMS nº 44/2018 e alterações), corresponde à tabela de \"Capítulos da NCM\", acrescida do código \"00 - Serviço\".\\nValidação: o valor informado no campo deve existir na Tabela \\'Gênero do Item de Mercadoria/Serviço\\', item 4.2.1 da Nota Técnica (Ato COTEPE/ICMS nº 44/2018 e alterações).\\nCampo 11 (COD_LST) - Preenchimento: informar o código de serviços, de acordo com a Lei Complementar 116/03. A partir de janeiro de 2015, preencher como na NF-e, formato NN.NN\\nCampo 12 (ALIQ_ICMS) -  Preenchimento: neste campo deve ser informada a alíquota interna prevista em regulamento, incluindo alíquota relacionada ao Fundo de Combate à Pobreza, se aplicável, conforme a legislação de cada UF.\\nRegra de validação para o campo \\'ALIQ_ICMS\\': Para todos os itens com registros C180, C185, C330, C380, C430, C480, C810 e C870, o preenchimento do campo 12 é obrigatório.\\nCampo 13 (CEST) - Preenchimento: Nos casos em que mais de um código CEST puder ser atribuído a um único produto no momento da saída, ou seja, quando a associação do CEST ao item em estoque depender da finalidade à qual o item será destinado pelo adquirente, este campo não deve ser informado.\\nValidação: o valor informado no campo deve existir na Tabela Código Especificador da Substituição Tributária- CEST.\\n\\nCampos do registro:\\n- REG: Texto fixo contendo \"0200\"\\n- COD_ITEM: Código do item\\n- DESCR_ITEM: Descrição do item\\n- COD_BARRA: Representação alfanumérico do código de barra do produto, se houver\\n- COD_ANT_ITEM: Código anterior do item com relação à última informação apresentada.\\n- UNID_INV: Unidade de medida utilizada na quantificação de estoques.\\n- TIPO_ITEM: Tipo do item - Atividades Industriais, Comerciais e Serviços: 00 - Mercadoria para Revenda; 01 - Matéria-prima; 02 - Embalagem; 03 - Produto em Processo; 04 - Produto Acabado; 05 - Subproduto; 06 - Produto Intermediário; 07 - Material de Uso e Consumo; 08 - Ativo Imobilizado; 09 - Serviços; 10 - Outros insumos; 99 - Outras\\n- COD_NCM: Código da Nomenclatura Comum do Mercosul\\n- EX_IPI: Código EX, conforme a TIPI\\n- COD_GEN: Código do gênero do item, conforme a Tabela 4.2.1\\n- COD_LST: Código do serviço conforme lista do Anexo I da Lei Complementar Federal nº 116/03.\\n- ALIQ_ICMS: Alíquota de ICMS aplicável ao item nas operações internas\\n- CEST: Código Especificador da Substituição Tributária\\n'), Document(metadata={'source': 'e:\\\\Carla Reis\\\\Projects\\\\Notebooks\\\\efd-ia\\\\data\\\\txt\\\\validacoes_extraidas.md', 'register': '0205', 'has_json': False, 'num_campos': 0, 'model_name': 'default-model'}, page_content='ALTERAÇÃO DO ITEM\\nEste registro tem por objetivo informar alterações ocorridas na descrição do produto ou quando ocorrer alteração na codificação do produto, desde que não o descaracterize ou haja modificação que o identifique como sendo novo produto. Caso não tenha ocorrido movimentação no período da alteração do item, deverá ser informada no primeiro período em que houver movimentação do item ou no inventário.\\nValidação do Registro: Não podem ser informados dois ou mais registros com sobreposição de períodos para o mesmo campo alterado (02 ou 05).\\nObservações: Os campos 02 e 05 são mutuamente excludentes, sendo obrigatório o preenchimento de um deles. Em caso de alteração da DESCR_ANT_ITEM e do COD_ANT_ITEM deverá ser gerado um registro para cada alteração.\\nNível hierárquico - 3\\nOcorrência - 1:N\\nCampo 01 (REG) - Valor Válido: [0205]\\nCampo 03 (DT_INI) - Preenchimento: informar a data inicial de utilização da descrição anterior do item.'), Document(metadata={'source': 'e:\\\\Carla Reis\\\\Projects\\\\Notebooks\\\\efd-ia\\\\data\\\\txt\\\\validacoes_extraidas.md', 'register': 'C165', 'has_json': True, 'num_campos': 13, 'model_name': 'default-model'}, page_content='OPERAÇÕES COM COMBUSTÍVEIS (CÓDIGO 01).\\nEste  registro  deve  ser  apresentado  pelas  empresas  do  segmento  de  combustíveis  (distribuidoras,  refinarias, revendedoras) em operações de saída. Postos de combustíveis não devem apresentar este registro.\\nValidação do Registro: Não podem ser informados para um mesmo documento fiscal, dois ou mais registros com a mesma combinação de conteúdo nos campos COD_PART e VEIC_ID.\\nObservações:\\nNível hierárquico - 3\\nOcorrência - 1:N\\nCampo 01 (REG) - Valor Válido: [C165]\\nCampo 02 (COD_PART) - Validação: o valor informado deve existir no campo COD_PART do registro 0150.\\nCampo  06 (HORA) -  Preenchimento: informar,  conforme  o  padrão  \\'hhmmss\\',  excluindo-se  quaisquer  caracteres  de separação, tais como: \".\", \":\", \"-\", \" \", etc.\\nCampo 12 (CPF) - Preenchimento: não utilizar os caracteres especiais de formatação, tais como: \\'.\\', \\'/\\', \\'-\\'. Validação: se preenchido, é conferido se o dígito verificador é válido.\\n\\nCampos do registro:\\n- REG: Texto fixo contendo \"C165\\'\\n- COD_PART: Código do participante (campo 02 do Registro 0150): - transportador, se houver\\n- VEIC_ID: Placa de identificação do veículo\\n- COD_AUT: Código da autorização fornecido pela SEFAZ (combustíveis)\\n- NR_PASSE: Número do Passe Fiscal\\n- HORA: Hora da saída das mercadorias\\n- TEMPER: Temperatura em graus Celsius utilizada para quantificação do volume de combustível\\n- QTD_VOL: Quantidade de volumes transportados\\n- PESO_BRT: Peso bruto dos volumes transportados (em kg)\\n- PESO_LIQ: Peso líquido dos volumes transportados (em kg)\\n- NOM_MOT: Nome do motorista\\n- CPF: CPF do motorista\\n- UF_ID: Sigla da UF da placa do veículo\\n'), Document(metadata={'source': 'e:\\\\Carla Reis\\\\Projects\\\\Notebooks\\\\efd-ia\\\\data\\\\txt\\\\validacoes_extraidas.md', 'register': 'C170', 'has_json': True, 'num_campos': 36, 'model_name': 'default-model'}, page_content='ITENS DO DOCUMENTO (CÓDIGO 01, 1B, 04 e 55).\\nRegistro  obrigatório  para  discriminar  os  itens  da  nota  fiscal  (mercadorias  e/ou  serviços  constantes  em  notas conjugadas), inclusive em operações de entrada de mercadorias acompanhadas de Nota Fiscal Eletrônica (NF-e) de emissão de terceiros.\\nConforme item 2.4.2.2.1 da Nota Técnica, instituída pelo Ato COTEPE/ICMS nº 44/2018 e alterações, o termo \\'item\\' é  aplicado  às  operações  fiscais  que  envolvam  mercadorias,  serviços,  produtos  ou  quaisquer  outros  itens  concernentes  às transações fiscais suportadas pelo documento, como, por exemplo, nota fiscal complementar, nota fiscal de ressarcimento, transferências de créditos e outros casos.\\nValidação do Registro: Não podem ser informados para um mesmo documento fiscal dois ou mais registros com o mesmo conteúdo no campo NUM_ITEM.\\nIMPORTANTE: para  documentos  de  entrada,  os  campos  de  valor  de  imposto,  base  de  cálculo  e  alíquota  só  devem  ser informados se o adquirente tiver direito à apropriação do crédito (enfoque do declarante).\\n38\\nVL_ABAT_NT\\nValor\\ndo\\nabatimento\\nnão\\ntributado\\ne\\nnão\\ncomercial\\nN\\n-\\n02\\nOC\\nOC\\nObservações:\\nNível hierárquico - 3\\nOcorrência - 1:N (um ou vários por registro C100)\\nCampo 01 (REG) - Valor Válido: [C170]\\nCampo 02 (NUM_ITEM) - Preenchimento: preencher com o mesmo número do item utilizado no documento fiscal.\\nCampo 03 (COD_ITEM) - Validação: o valor informado neste campo deve existir no registro 0200. Atentar para a premissa de que a informação deve ser prestada pela ótica do contribuinte, ou seja, nas operações de entradas de mercadorias, os códigos informados devem ser os definidos pelo próprio informante e não aqueles constantes do documento fiscal.\\nCampo 05 (QTD) - Preenchimento: informar a quantidade do item constante no documento fiscal, tanto na entrada como na saída, expressa na unidade de medida informada no campo UNID.\\nValidação: o valor informado no campo deve ser maior que \\'0\\' (zero), exceto para o COD_SIT igual a 6 (complementar) ou 7 (complementar extemporâneo), para os quais o valor deve ser maior ou igual a \\'0\\' (zero).\\nCampo 06 (UNID) - Preenchimento: informar a unidade de medida de comercialização do item utilizada no documento fiscal, tanto na entrada como na saída. Caso a unidade de medida do documento fiscal seja diferente da unidade de medida de controle de estoque informada no Registro 0200, deverá ser informado no Registro 0220 o fator de conversão entre as unidades de medida.\\nValidação:\\na) o valor informado neste campo deve existir no registro 0190.\\nb) Caso a unidade de medida do documento fiscal seja diferente da unidade de medida de controle de estoque informada no Registro 0200, o valor informado deve existir no registro 0220 para o código do item (Campo 03 - COD_ITEM desse registro) com a correspondente conversão, exceto se o campo 07 - TIPO_ITEM do registro 0200 for igual a 07 (Material de Uso e Consumo).\\nCampo 07 (VL_ITEM) -  Preenchimento: informar o valor total do item/produto (via de regra, o valor das mercadorias é equivalente à multiplicação da quantidade pelo preço unitário) ou do serviço.\\nValidação: a soma de valores dos registros C170 deve ser igual ao valor informado no campo VL_MERC do registro C100.\\nCampo 08 (VL_DESC) -  Preenchimento: informar o  valor  do  desconto  comercial,  ou  seja,  os  descontos  incondicionais constantes do próprio documento fiscal.\\nCampo 09 (IND_MOV) - Valores válidos : [0, 1]\\nPreenchimento: indicar a movimentação física do item ou produto. Será informado o código \\'1\\' em todas as situações em que não  houver  movimentação  de  mercadorias,  por  exemplo:  notas  fiscais  complementares,  simples  faturamento,  remessas simbólicas, etc.\\nCampo 10 (CST_ICMS) - Preenchimento: o campo deverá ser preenchido com o código da Situação Tributária sob o enfoque do declarante. Exemplo 1  - Aquisição de mercadorias tributadas para uso e consumo  - informar código \\'90\\' da tabela B. Exemplo 2 - Aquisição de mercadorias para comercialização com ICMS retido por ST - informar código \\'60\\' da tabela B. Nas operações  de  aquisição  de  produtos  de  empresas  do  Simples  Nacional,  deverá  ser  indicado  o  CST_ICMS  definido  pelo Convênio S/N de 1970.\\nPara os estabelecimentos informantes da EFD-ICMS/IPI, optantes pelo Simples Nacional e que recolham o ICMS por este regime, na escrituração de documentos fiscais de saída deverá ser utilizada a Tabela  B do CSOSN e na escrituração dos documentos fiscais de entrada, informar o CST_ICMS sob o enfoque do declarante.\\nAté 30-06-2012, nas operações de entradas (documentos de terceiros), poderá ser informado o CST que constar no documento fiscal de aquisição dos produtos.\\nValidação: o valor informado no campo deve existir na Tabela da Situação Tributária referente ao ICMS, constante do Artigo 5º do Convênio SN/70 e/ou Ajuste SINIEF nº 03/2010.\\nOutras regras a serem executadas somente nas operações de saídas:\\nICMS Normal:\\n- a) se  os  dois  últimos  dígitos  deste  campo  forem  iguais  a  30,  40,  41,  50,  ou  60,  então  os  valores  dos  campos VL_BC_ICMS, ALIQ_ICMS e VL_ICMS deverão ser iguais a \\'0\\' (zero);\\n- b) se os dois últimos dígitos deste campo forem diferentes de 30, 40, 41, 50, e 60, então os valores dos campos VL_BC_ICMS, ALIQ_ICMS e VL_ICMS deverão ser maiores que \\'0\\' (zero);\\n- c) se os dois últimos dígitos deste campo forem iguais a 20, 51 ou 90, então os valores dos campos VL_BC_ICMS, ALIQ_ICMS e VL_ICMS deverão ser maiores ou iguais a \\'0\\' (zero).\\nICMS ST:\\n- a) se os dois últimos caracteres deste campo forem 10, 30 ou 70, os valores dos campos VL_BC_ST, ALIQ_ST e VL_ICMS_ST deverão ser maiores ou iguais a \\'0\\' (zero).\\n- b) se os dois últimos caracteres deste campo forem diferentes de 10, 30 ou 70, os valores dos campos VL_BC_ST, ALIQ_ST e VL_ICMS_ST deverão ser iguais a \\'0\\' (zero).\\nCampo  11 (CFOP) -  Preenchimento: nas  operações  de  entradas,  devem  ser  registrados  os  códigos  de  operação  que correspondem ao tratamento tributário relativo à destinação do item.\\nValidação: o valor informado no campo deve existir na Tabela de Código Fiscal de Operação e Prestação, conforme Ajuste SINIEF 07/01.\\nSe o campo IND_OPER do registro C100 for igual a \\'0\\' (zero), então o primeiro caractere do CFOP deve ser igual a 1, 2 ou 3. Se campo IND_OPER do registro C100 for igual a \\'1\\' (um), então o primeiro caractere do CFOP deve ser igual a 5, 6 ou 7. O primeiro caractere deve ser o mesmo para todos os itens de um documento fiscal.\\nCampo 12 (COD_NAT) -  Validação: o valor informado no campo deve existir no registro 0400  -Tabela de Natureza da Operação.\\nCampo 14 (ALIQ_ICMS) - Validação: nas operações de saídas, se os dois últimos caracteres do CST_ICMS forem 00, 10, 20 ou 70, o campo ALIQ_ICMS deve ser maior que \\'0\\' (zero).\\nCampo 19 (IND_APUR) - Valores válidos : [0, 1]\\nPreenchimento: informar o período de apuração do IPI (0-Mensal ou 1-Decendial). Este campo servirá para identificar quais documentos serão considerados em cada apuração do IPI para períodos distintos no mesmo mês, nos casos em que um mesmo contribuinte esteja submetido simultaneamente a mais de uma apuração.\\nCampo 20 (CST_IPI) - Preenchimento: O campo deverá ser preenchido somente se o declarante for contribuinte do IPI. A tabela do CST_IPI consta publicada na Instrução Normativa RFB nº 932, de 14/04/2009. A partir de 01 de abril de 2010, IN RFB nº 1009, de 10 de fevereiro de 2010.\\nCampo 21 (COD_ENQ) - Não preencher.\\nCampo 22 (VL_BC_IPI) - Preenchimento: O frete e despesas acessórias, quando destacados no documento fiscal, devem ser rateados por item de mercadoria e compõem a base de cálculo do IPI.\\nCampo 23 (ALIQ_IPI) - Preenchimento: preencher com a alíquota do IPI estabelecida na TIPI e NÃO preencher , quando a forma de tributação do IPI for fixada em reais e calculada por unidade ou por determinada quantidade de produto.\\nCampo 24 (VL_IPI) - Preenchimento : Deverão ser destacados e informados neste campo todos os débitos e/ou créditos de IPI da operação. Esses valores serão totalizados para o registro C190, na combinação de CST_ICMS + CFOP + ALIQ_ICMS, bem como, comparados com o total informado no registro C100.\\nCampo 25 (CST_PIS) - Validação: o valor deve constar da Tabela de Código da Situação Tributária referente ao PIS, constante da Instrução Normativa RFB nº 932, de 14/04/2009.\\nObs.: Nos casos de regime cumulativo na apuração do PIS ou COFINS os campos 25 a 36 podem ser informados como campos de conteúdo VAZIO, ou seja, \\'||\\'.Os contribuintes que entregarem a EFD-Contribuições relativa ao mesmo período de apuração do registro 0000 estão dispensados do preenchimento dos campos 25 a 36. Apresentar conteúdo VAZIO \\'||\\'.\\nA partir de 01 de abril de 2010, Instrução Normativa RFB nº 1009, de 10 de fevereiro de 2010.\\nCampo 28 (QUANT_BC_PIS) - Preenchimento: Neste campo deverá ser informada a quantidade de produtos vendidos na unidade de tributação prevista na legislação.\\nDe acordo com a legislação em vigor em fevereiro de 2009, a apuração das contribuições sociais, com base de cálculo determinada sobre a quantidade de produtos vendidos, alcança:\\n- 1.  As  receitas  decorrentes  da  venda  e  da  produção  sob  encomenda  de embalagens  para  bebidas (refrigerantes, cervejas e águas, classificadas nas posições 22.01, 22.02 e 22.03 da TIPI) pelas pessoas jurídicas industriais ou comerciais e pelos importadores, conforme disposto no art. 51 da Lei nº 10.833/03;\\n- 2. As receitas decorrentes da venda de bebidas frias (refrigerantes, cervejas e águas, classificadas nas posições 22.01, 22.02 e 22.03 da TIPI) e preparações compostas classificadas no código 2106.90.10, ex 02, da TIPI, pelas pessoas jurídicas industriais e pelos importadores, conforme disposto no art. 52 da Lei nº 10.833/03 (fatos geradores até 31.12.2008) e pela Lei nº 10.865/04 ;\\n- 3. As receitas decorrentes da venda de bebidas frias (refrigerantes, cervejas e águas, classificadas nas posições 22.01, 22.02 e 22.03 da TIPI) e preparações compostas classificadas no código 2106.90.10, ex 02, da TIPI, pelas pessoas jurídicas industriais e pelos importadores, conforme disposto nos arts. 58-A a 58-U2 da Lei nº 10.833/03, incluídos pela lei nº 11.727 (fatos geradores a partir de 01.01.2009) e pela Lei nº 10.865/04 ;\\n- 4. As receitas decorrentes da venda de gasolinas e suas correntes, exceto gasolina de aviação, de óleo diesel e suas correntes, de gás liquefeito de petróleo - GLP, derivado de petróleo e de gás natura e de querosene de aviação, pelas pessoas jurídicas industriais e pelos importadores, conforme disposto no art. 23 da Lei nº 10.865/04 e pela Lei nº 10.865/04. Os  contribuintes  que  entregarem  a  EFD-Contribuições  relativa  ao  mesmo  período  de  apuração  do  registro  0000  estão dispensados do preenchimento deste campo. Apresentar conteúdo VAZIO \\'||\\'.\\nCampo 31 (CST_COFINS) - Validação: o valor deve constar da Tabela de Código da Situação Tributária referente ao COFINS, constante da Instrução Normativa RFB nº 932, de 14/04/2009.\\nA partir de 01 de abril de 2010, Instrução Normativa RFB nº 1009, de 10 de fevereiro de 2010.\\n***Os contribuintes que entregarem a EFD-Contribuições relativa ao mesmo período de apuração do registro 0000 estão dispensados do preenchimento deste campo. Ou seja, deverá ser apresentados com conteúdo VAZIO \\'||\\'.\\nCampo 34 (QUANT_BC_COFINS) - Preenchimento: Idem campo 28.\\nCampo 37 (COD_CTA) -  Preenchimento: informar o Código da Conta Analítica. Exemplos: estoques, receitas, despesas, ativos. Deve ser a conta credora ou devedora principal, podendo ser informada a conta sintética (nível acima da conta analítica).\\n\\nCampos do registro:\\n- REG: Texto fixo contendo \"C170\"\\n- NUM_ITEM: Número sequencial do item no documento fiscal\\n- COD_ITEM: Código do item (campo 02 do Registro 0200)\\n- DESCR_COMPL: Descrição complementar do item como adotado no documento fiscal\\n- QTD: Quantidade do item\\n- UNID: Unidade do item (Campo 02 do registro 0190)\\n- VL_ITEM: Valor total do item (mercadorias ou serviços)\\n- VL_DESC: Valor do desconto comercial\\n- IND_MOV: Movimentação física do ITEM/PRODUTO: 0. SIM 1. NÃO\\n- CST_ICMS: Código da Situação Tributária referente ao ICMS, conforme a Tabela indicada no item 4.3.1\\n- CFOP: Código Fiscal de Operação e Prestação\\n- COD_NAT: Código da natureza da operação (campo 02 do Registro 0400)\\n- VL_BC_ICMS: Valor da base de cálculo do ICMS\\n- ALIQ_ICMS: Alíquota do ICMS\\n- VL_ICMS: Valor do ICMS creditado/debitado\\n- VL_BC_ICMS_ST: Valor da base de cálculo referente à substituição tributária\\n- ALIQ_ST: Alíquota do ICMS da substituição tributária na unidade da federação de destino\\n- VL_ICMS_ST: Valor do ICMSreferente à substituição tributária\\n- IND_APUR: Indicador de período de apuração do IPI: 0 - Mensal; 1 - Decendial\\n- CST_IPI: Código da Situação Tributária referente ao IPI, conforme a Tabela indicada no item 4.3.2.\\n- COD_ENQ: Código de enquadramento legal do IPI, conforme tabela indicada no item 4.5.3.\\n- VL_BC_IPI: Valor da base de cálculo do IPI\\n- ALIQ_IPI: Alíquota do IPI\\n- VL_IPI: Valor do IPI creditado/debitado\\n- CST_PIS: Código da Situação Tributária referente ao PIS.\\n- VL_BC_PIS: Valor da base de cálculo do PIS\\n- ALIQ_PIS: Alíquota do PIS (em percentual)\\n- QUANT_BC_PIS: Quantidade - Base de cálculo PIS\\n- ALIQ_PIS: Alíquota do PIS (em reais)\\n- VL_PIS: Valor do PIS\\n- CST_COFINS: Código da Situação Tributária referente ao COFINS.\\n- VL_BC_COFINS: Valor da base de cálculo da COFINS\\n- ALIQ_COFINS: Alíquota do COFINS (em percentual)\\n- QUANT_BC_COF INS: Quantidade - Base de cálculo COFINS\\n- ALIQ_COFINS: Alíquota da COFINS (em reais) Valor da COFINS\\n- COD_CTA: Código da conta analítica contábil debitada/creditada\\n'), Document(metadata={'source': 'e:\\\\Carla Reis\\\\Projects\\\\Notebooks\\\\efd-ia\\\\data\\\\txt\\\\validacoes_extraidas.md', 'register': 'C171', 'has_json': True, 'num_campos': 5, 'model_name': 'default-model'}, page_content='ARMAZENAMENTO DE COMBUSTÍVEIS (código 01, 55).\\nEste registro deve ser apresentado pelas empresas do comércio varejista de combustíveis, somente nas operações de entrada, para informar o volume recebido (em litros), por item do documento fiscal, conforme Livro de Movimentação de Combustíveis (LMC), Ajuste SINIEF 01/92.\\nValidação do Registro: Não podem ser informados para um mesmo documento fiscal, dois ou mais registros com o mesmo conteúdo no campo NUM_TANQUE.\\nObservações:\\nNível hierárquico - 4\\nOcorrência - 1:N\\nObservações:\\nNível hierárquico - 1\\nOcorrência - um por arquivo\\nBLOCO C: DOCUMENTOS FISCAIS I - MERCADORIAS (ICMS/IPI)\\n\\nCampos do registro:\\n- : Operação Tributável com Alíquota Básica\\n- : Operação Tributável com Alíquota Diferenciada\\n- : Operação Tributável com Alíquota por Unidade de Medida de Produto\\n- : Operação Tributável Monofásica - Revenda a Alíquota Zero\\n- : Operação Tributável por Substituição Tributária\\n'), Document(metadata={'source': 'e:\\\\Carla Reis\\\\Projects\\\\Notebooks\\\\efd-ia\\\\data\\\\txt\\\\validacoes_extraidas.md', 'register': 'C001', 'has_json': True, 'num_campos': 2, 'model_name': 'default-model'}, page_content='ABERTURA DO BLOCO C\\nEste registro tem por objetivo identificar a abertura do bloco C, indicando se há informações sobre documentos fiscais.\\nObservações:\\nNível hierárquico - 1\\nOcorrência - um por arquivo\\nCampo 01 (REG) - Valor válido : [C001]\\nCampo 02 (IND_MOV) - Valores válidos: [0, 1]\\nValidação: se o valor deste campo for igual a \\'1\\' (um), somente podem ser informados os registros de abertura e encerramento do bloco. Se o valor neste campo for igual a \\'0\\' (zero), deve ser informado pelo menos um registro além dos registros de abertura e encerramento do bloco.\\n\\nCampos do registro:\\n- REG: Texto fixo contendo \"C001\"\\n- IND_MOV: Indicador de movimento: 0- Bloco com dados informados; 1- Bloco sem dados informados\\n')]\n",
      "✅ Vectorstore criado com sucesso!\n"
     ]
    }
   ],
   "source": [
    "import shutil\n",
    "import os\n",
    "\n",
    "embeddings_model = \"sentence-transformers/all-MiniLM-L6-v2\"\n",
    "\n",
    "# Cria o vectorstore\n",
    "vectorstore = EFDVectorStore(path_data + \"/structured/chunks.json\", embeddings_model)\n",
    "vectorstore.create_vectorstore()\n",
    "retriever = vectorstore.vectorstore.as_retriever()"
   ]
  },
  {
   "cell_type": "markdown",
   "metadata": {},
   "source": [
    "### Avaliação dos LLM x Modelo de Emdeddings `sentence-transformers/paraphrase-multilingual-MiniLM-L12-v2`"
   ]
  },
  {
   "cell_type": "markdown",
   "metadata": {},
   "source": [
    "#### Usando LLM Bode"
   ]
  },
  {
   "cell_type": "code",
   "execution_count": 8,
   "metadata": {},
   "outputs": [
    {
     "name": "stderr",
     "output_type": "stream",
     "text": [
      "e:\\Carla Reis\\Projects\\Notebooks\\efd-ia\\efd_utils\\rag_efd.py:388: LangChainDeprecationWarning: The class `LLMChain` was deprecated in LangChain 0.1.17 and will be removed in 1.0. Use :meth:`~RunnableSequence, e.g., `prompt | llm`` instead.\n",
      "  self.llm_chain = LLMChain(prompt=self.prompt, llm=self.llm)\n"
     ]
    }
   ],
   "source": [
    "# Cria o chat\n",
    "chatBode = EFDChatBode()"
   ]
  },
  {
   "cell_type": "code",
   "execution_count": 9,
   "metadata": {},
   "outputs": [],
   "source": [
    "# Limite de caracteres por chunk (ajuste conforme necessário)\n",
    "MAX_CHUNK_CHARS = 300\n",
    "\n",
    "def limitar_contexto(results, max_chunks=2, max_chars=MAX_CHUNK_CHARS):\n",
    "    contexto_limitado = []\n",
    "    for doc in results[:max_chunks]:\n",
    "        texto = doc.page_content\n",
    "        if len(texto) > max_chars:\n",
    "            texto = texto[:max_chars] + \"...\"\n",
    "        contexto_limitado.append(\n",
    "            f\"Registro: {doc.metadata.get('register', '')}\\nConteúdo: {texto}\"\n",
    "        )\n",
    "    return \"\\n\\n\".join(contexto_limitado)"
   ]
  },
  {
   "cell_type": "code",
   "execution_count": 10,
   "metadata": {},
   "outputs": [
    {
     "name": "stderr",
     "output_type": "stream",
     "text": [
      "C:\\Users\\clr_c\\AppData\\Local\\Temp\\ipykernel_28376\\2873707216.py:2: LangChainDeprecationWarning: The method `BaseRetriever.get_relevant_documents` was deprecated in langchain-core 0.1.46 and will be removed in 1.0. Use :meth:`~invoke` instead.\n",
      "  results = retriever.get_relevant_documents(query)\n",
      "e:\\Carla Reis\\Projects\\Notebooks\\efd-ia\\efd_utils\\rag_efd.py:408: LangChainDeprecationWarning: The method `Chain.run` was deprecated in langchain 0.1.0 and will be removed in 1.0. Use :meth:`~invoke` instead.\n",
      "  response = self.llm_chain.run(instruction)\n"
     ]
    },
    {
     "name": "stdout",
     "output_type": "stream",
     "text": [
      "\n",
      "Pergunta: Quais são os campos do registro 0200?\n",
      "\n",
      "Resposta: O registro 0200 contém informações de código, nome, descrição e codificação.\n"
     ]
    }
   ],
   "source": [
    "query = \"Quais são os campos do registro 0200?\"\n",
    "results = retriever.get_relevant_documents(query)\n",
    "contexto = limitar_contexto(results, max_chunks=2, max_chars=300)\n",
    "response = chatBode.get_response(query, contexto)\n",
    "\n",
    "print(\"\\nPergunta:\", query)\n",
    "print(\"\\nResposta:\", response)"
   ]
  },
  {
   "cell_type": "code",
   "execution_count": 11,
   "metadata": {},
   "outputs": [
    {
     "name": "stdout",
     "output_type": "stream",
     "text": [
      "\n",
      "Pergunta: Quais são os campos obrigatórios do C170?\n",
      "\n",
      "Resposta: Os campos obrigatórios no C170 incluem o código do registro (C170), o código do item (55) e o volume recebido (em litros).\n"
     ]
    }
   ],
   "source": [
    "query = \"Quais são os campos obrigatórios do C170?\"\n",
    "results = retriever.get_relevant_documents(query)\n",
    "contexto = limitar_contexto(results, max_chunks=2, max_chars=300)\n",
    "response = chatBode.get_response(query, contexto)\n",
    "\n",
    "print(\"\\nPergunta:\", query)\n",
    "print(\"\\nResposta:\", response)"
   ]
  },
  {
   "cell_type": "code",
   "execution_count": 12,
   "metadata": {},
   "outputs": [
    {
     "name": "stdout",
     "output_type": "stream",
     "text": [
      "\n",
      "Pergunta: Quais são os registros relacionados ao campo COD_ITEM?\n",
      "\n",
      "Resposta: Os dois registros relacionados ao campo COD_ITEM são 0205 e 0190.\n"
     ]
    }
   ],
   "source": [
    "query = \"Quais são os registros relacionados ao campo COD_ITEM?\"\n",
    "results = retriever.get_relevant_documents(query)\n",
    "contexto = limitar_contexto(results, max_chunks=2, max_chars=300)\n",
    "response = chatBode.get_response(query, contexto)\n",
    "\n",
    "print(\"\\nPergunta:\", query)\n",
    "print(\"\\nResposta:\", response)"
   ]
  },
  {
   "cell_type": "code",
   "execution_count": 13,
   "metadata": {},
   "outputs": [
    {
     "name": "stdout",
     "output_type": "stream",
     "text": [
      "\n",
      "Pergunta: Quais são os campos do registro C165?\n",
      "\n",
      "Resposta: O registro C165 é usado para identificar a unidade de medida e o código de unidade de medida que ocorreram na descrição ou alteração do item.\n"
     ]
    }
   ],
   "source": [
    "query = \"Quais são os campos do registro C165?\"\n",
    "results = retriever.get_relevant_documents(query)\n",
    "contexto = limitar_contexto(results, max_chunks=2, max_chars=300)\n",
    "response = chatBode.get_response(query, contexto)\n",
    "\n",
    "print(\"\\nPergunta:\", query)\n",
    "print(\"\\nResposta:\", response)"
   ]
  },
  {
   "cell_type": "code",
   "execution_count": 14,
   "metadata": {},
   "outputs": [
    {
     "name": "stdout",
     "output_type": "stream",
     "text": [
      "\n",
      "Pergunta: Qual a regra do campo NUM_ITEM?\n",
      "\n",
      "Resposta: O campo NUM_ITEM tem um valor mínimo de 1 e um máximo de 99999.\n"
     ]
    }
   ],
   "source": [
    "query = \"Qual a regra do campo NUM_ITEM?\"\n",
    "\n",
    "results = retriever.get_relevant_documents(query)\n",
    "contexto = limitar_contexto(results, max_chunks=2, max_chars=300)\n",
    "response = chatBode.get_response(query, contexto)\n",
    "\n",
    "print(\"\\nPergunta:\", query)\n",
    "print(\"\\nResposta:\", response)"
   ]
  },
  {
   "cell_type": "code",
   "execution_count": 15,
   "metadata": {},
   "outputs": [
    {
     "name": "stdout",
     "output_type": "stream",
     "text": [
      "\n",
      "Pergunta: Qual é a validação do campo 01 do registro C165?\n",
      "\n",
      "Resposta: A validação do campo 01 do registro C165 é verificação de consistência para as linhas que contêm o código de unidade de medida.\n"
     ]
    }
   ],
   "source": [
    "query = \"Qual é a validação do campo 01 do registro C165?\"\n",
    "\n",
    "results = retriever.get_relevant_documents(query)\n",
    "contexto = limitar_contexto(results, max_chunks=2, max_chars=300)\n",
    "response = chatBode.get_response(query, contexto)\n",
    "\n",
    "print(\"\\nPergunta:\", query)\n",
    "print(\"\\nResposta:\", response)"
   ]
  },
  {
   "cell_type": "markdown",
   "metadata": {},
   "source": [
    "#### Usando LLM Llama 3.2"
   ]
  },
  {
   "cell_type": "code",
   "execution_count": 16,
   "metadata": {},
   "outputs": [
    {
     "name": "stderr",
     "output_type": "stream",
     "text": [
      "e:\\Carla Reis\\Projects\\Notebooks\\efd-ia\\efd_utils\\rag_efd.py:344: LangChainDeprecationWarning: The class `ChatOllama` was deprecated in LangChain 0.3.1 and will be removed in 1.0.0. An updated version of the class exists in the :class:`~langchain-ollama package and should be used instead. To use it run `pip install -U :class:`~langchain-ollama` and import as `from :class:`~langchain_ollama import ChatOllama``.\n",
      "  self.llm = ChatOllama(model=model_name)\n"
     ]
    }
   ],
   "source": [
    "chatLlama = EFDChatOllama()"
   ]
  },
  {
   "cell_type": "code",
   "execution_count": 17,
   "metadata": {},
   "outputs": [
    {
     "name": "stderr",
     "output_type": "stream",
     "text": [
      "e:\\Carla Reis\\Projects\\Notebooks\\efd-ia\\efd_utils\\rag_efd.py:365: LangChainDeprecationWarning: The method `BaseChatModel.__call__` was deprecated in langchain-core 0.1.7 and will be removed in 1.0. Use :meth:`~invoke` instead.\n",
      "  response = self.llm([HumanMessage(content=prompt)])\n"
     ]
    },
    {
     "name": "stdout",
     "output_type": "stream",
     "text": [
      "\n",
      "Pergunta: Quais são os campos do registro 0200?\n",
      "\n",
      "Resposta: Os campos do registro 0200 são:\n",
      "\n",
      "1. REG - Texto fixo contendo \"0200\"\n",
      "2. COD_ITEM - Código do item\n",
      "3. DESCR_ITEM - Descrição do item\n",
      "4. COD_BARRA - Representação alfanumérico do código de barra do produto, se houver\n",
      "5. COD_ANT_ITEM - Código anterior do item com relação à última informação apresentada.\n",
      "6. UNID_INV - Unidade de medida utilizada na quantificação de estoques.\n",
      "7. TIPO_ITEM - Tipo do item - Atividades Industriais, Comerciais e Serviços: 00 - Mercadoria para Revenda; 01 - Matéria-prima; 02 - Embalagem; 03 - Produto em Processo; 04 - Produto Acabado; 05 - Subproduto; 06 - Produto Intermediário; 07 - Material de Uso e Consumo; 08 - Ativo Imobilizado; 09 - Serviços; 10 - Outros insumos; 99 - Outras\n",
      "8. COD_NCM - Código da Nomenclatura Comum do Mercosul\n",
      "9. EX_IPI - Código EX, conforme a TIPI\n",
      "10. COD_GEN - Código do gênero do item, conforme a Tabela 4.2.1\n",
      "11. COD_LST - Código do serviço conforme lista do Anexo I da Lei Complementar Federal nº 116/03.\n",
      "12. ALIQ_ICMS - Alíquota de ICMS aplicável ao item nas operações internas\n",
      "13. CEST - Código Especificador da Substituição Tributária\n"
     ]
    }
   ],
   "source": [
    "query = \"Quais são os campos do registro 0200?\"\n",
    "results = retriever.get_relevant_documents(query)\n",
    "        \n",
    "# Gera a resposta\n",
    "response = chatLlama.get_response(query, results)\n",
    "        \n",
    "print(\"\\nPergunta:\", query)\n",
    "print(\"\\nResposta:\", response)"
   ]
  },
  {
   "cell_type": "code",
   "execution_count": 18,
   "metadata": {},
   "outputs": [
    {
     "name": "stdout",
     "output_type": "stream",
     "text": [
      "\n",
      "Pergunta: Quais são os campos obrigatórios do C170?\n",
      "\n",
      "Resposta: Os campos obrigatórios do registro C170 são:\n",
      "\n",
      "1. COD_PART\n",
      "2. VEIC_ID\n",
      "3. COD_AUT\n",
      "4. NR_PASSE\n",
      "5. HORA\n",
      "6. TEMPER\n",
      "7. QTD_VOL\n",
      "8. PESO_BRT\n",
      "9. PESO_LIQ\n",
      "10. NOM_MOT\n",
      "11. CPF\n",
      "12. UF_ID\n"
     ]
    }
   ],
   "source": [
    "query = \"Quais são os campos obrigatórios do C170?\"\n",
    "results = retriever.get_relevant_documents(query)\n",
    "        \n",
    "# Gera a resposta\n",
    "response = chatLlama.get_response(query, results)\n",
    "        \n",
    "print(\"\\nPergunta:\", query)\n",
    "print(\"\\nResposta:\", response)"
   ]
  },
  {
   "cell_type": "code",
   "execution_count": 19,
   "metadata": {},
   "outputs": [
    {
     "name": "stdout",
     "output_type": "stream",
     "text": [
      "\n",
      "Pergunta: Quais são os registros relacionados ao campo COD_ITEM?\n",
      "\n",
      "Resposta: Os registros relacionados ao campo COD_ITEM são os seguintes:\n",
      "\n",
      "* Registro 0200: REG \"0200\", Descrição do item, Código do item, Descrição do item e outros campos específicos.\n",
      "* Registro 0150: REG \"0150\", Descrição do item, Código do item, Descrição do item e outros campos específicos.\n",
      "* Registro C165: REG \"C165\", Código do item, Descrição do item, Código da Nomenclatura Comum do Mercosul e outros campos específicos.\n",
      "\n",
      "Esses registros contêm informações sobre os itens de negócios e as operações relacionadas a eles.\n"
     ]
    }
   ],
   "source": [
    "query = \"Quais são os registros relacionados ao campo COD_ITEM?\"\n",
    "results = retriever.get_relevant_documents(query)\n",
    "        \n",
    "# Gera a resposta\n",
    "response = chatLlama.get_response(query, results)\n",
    "        \n",
    "print(\"\\nPergunta:\", query)\n",
    "print(\"\\nResposta:\", response)"
   ]
  },
  {
   "cell_type": "code",
   "execution_count": 20,
   "metadata": {},
   "outputs": [
    {
     "name": "stdout",
     "output_type": "stream",
     "text": [
      "\n",
      "Pergunta: Quais são os campos do registro C165?\n",
      "\n",
      "Resposta: Os campos do registro C165 são:\n",
      "\n",
      "1. REG (Texto fixo contendo \"C165\")\n",
      "2. COD_PART (Código do participante, que deve existir no campo COD_PART do registro 0150)\n",
      "3. VEIC_ID (Placa de identificação do veículo)\n",
      "4. COD_AUT (Código da autorização fornecida pela SEFAZ)\n",
      "5. NR_PASSE (Número do Passe Fiscal)\n",
      "6. HORA (Hora da saída das mercadorias, em formato 'hhmmss')\n",
      "7. TEMPER (Temperatura em graus Celsius utilizada para quantificação do volume de combustível)\n",
      "8. QTD_VOL (Quantidade de volumes transportados)\n",
      "9. PESO_BRT (Peso bruto dos volumes transportados em kg)\n",
      "10. PESO_LIQ (Peso líquido dos volumes transportados em kg)\n",
      "11. NOM_MOT (Nome do motorista)\n",
      "12. CPF (CPF do motorista)\n",
      "13. UF_ID (Sigla da UF da placa do veículo)\n"
     ]
    }
   ],
   "source": [
    "query = \"Quais são os campos do registro C165?\"\n",
    "results = retriever.get_relevant_documents(query)\n",
    "        \n",
    "# Gera a resposta\n",
    "response = chatLlama.get_response(query, results)\n",
    "        \n",
    "print(\"\\nPergunta:\", query)\n",
    "print(\"\\nResposta:\", response)"
   ]
  },
  {
   "cell_type": "code",
   "execution_count": 21,
   "metadata": {},
   "outputs": [
    {
     "name": "stdout",
     "output_type": "stream",
     "text": [
      "\n",
      "Pergunta: Qual a regra do campo NUM_ITEM?\n",
      "\n",
      "Resposta: O campo NUM_ITEM deve ser sempre igual à quantidade de registros de C165 que estão sendo relacionados.\n"
     ]
    }
   ],
   "source": [
    "query = \"Qual a regra do campo NUM_ITEM?\"\n",
    "results = retriever.get_relevant_documents(query)\n",
    "        \n",
    "# Gera a resposta\n",
    "response = chatLlama.get_response(query, results)\n",
    "        \n",
    "print(\"\\nPergunta:\", query)\n",
    "print(\"\\nResposta:\", response)"
   ]
  },
  {
   "cell_type": "code",
   "execution_count": 22,
   "metadata": {},
   "outputs": [
    {
     "name": "stdout",
     "output_type": "stream",
     "text": [
      "\n",
      "Pergunta: Qual é a validação do campo 01 do registro C165?\n",
      "\n",
      "Resposta: A validação do campo 01 (REG) do registro C165 é que deve ser \"C165\".\n"
     ]
    }
   ],
   "source": [
    "query = \"Qual é a validação do campo 01 do registro C165?\"\n",
    "results = retriever.get_relevant_documents(query)\n",
    "        \n",
    "# Gera a resposta\n",
    "response = chatLlama.get_response(query, results)\n",
    "        \n",
    "print(\"\\nPergunta:\", query)\n",
    "print(\"\\nResposta:\", response)"
   ]
  }
 ],
 "metadata": {
  "kernelspec": {
   "display_name": "efd-ia",
   "language": "python",
   "name": "python3"
  },
  "language_info": {
   "codemirror_mode": {
    "name": "ipython",
    "version": 3
   },
   "file_extension": ".py",
   "mimetype": "text/x-python",
   "name": "python",
   "nbconvert_exporter": "python",
   "pygments_lexer": "ipython3",
   "version": "3.10.17"
  }
 },
 "nbformat": 4,
 "nbformat_minor": 2
}
